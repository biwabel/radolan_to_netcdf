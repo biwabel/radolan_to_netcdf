{
 "cells": [
  {
   "cell_type": "markdown",
   "metadata": {},
   "source": [
    "**Conclusion:** \n",
    "* It is always slower when writing the whole block of data compared to writing data in a loop timestep by timesteps\n",
    "* This is also true when specifying the chunksize to [1, 900, 900] (which is also seems to be the default when not specifying the chunksize...)\n",
    "* This is also true when not using compression (which speeds up things considerably)"
   ]
  },
  {
   "cell_type": "code",
   "execution_count": 1,
   "metadata": {},
   "outputs": [],
   "source": [
    "%load_ext autoreload\n",
    "%autoreload 2"
   ]
  },
  {
   "cell_type": "code",
   "execution_count": 2,
   "metadata": {},
   "outputs": [],
   "source": [
    "import xarray as xr\n",
    "import radolan_to_netcdf as rtn\n",
    "import numpy as np\n",
    "import netCDF4"
   ]
  },
  {
   "cell_type": "code",
   "execution_count": 3,
   "metadata": {},
   "outputs": [],
   "source": [
    "fn = '/tmp/test.nc'\n",
    "test_data = np.random.randn(100, 900, 900)"
   ]
  },
  {
   "cell_type": "markdown",
   "metadata": {},
   "source": [
    "# Write time step by time step"
   ]
  },
  {
   "cell_type": "code",
   "execution_count": 4,
   "metadata": {},
   "outputs": [],
   "source": [
    "rtn.create_empty_netcdf(fn=fn, product_name='RW')"
   ]
  },
  {
   "cell_type": "code",
   "execution_count": 5,
   "metadata": {},
   "outputs": [
    {
     "name": "stdout",
     "output_type": "stream",
     "text": [
      "CPU times: user 35.9 s, sys: 394 ms, total: 36.3 s\n",
      "Wall time: 9.23 s\n"
     ]
    }
   ],
   "source": [
    "%%time\n",
    "\n",
    "with netCDF4.Dataset(fn, 'a') as nc_fh: \n",
    "    for i in range(test_data.shape[0]):\n",
    "        nc_fh['rainfall_amount'][i, :, :] = test_data[i, :, :]"
   ]
  },
  {
   "cell_type": "markdown",
   "metadata": {},
   "source": [
    "# Write whole block of data at once"
   ]
  },
  {
   "cell_type": "code",
   "execution_count": 6,
   "metadata": {},
   "outputs": [],
   "source": [
    "rtn.create_empty_netcdf(fn=fn, product_name='RW')"
   ]
  },
  {
   "cell_type": "code",
   "execution_count": 7,
   "metadata": {},
   "outputs": [
    {
     "name": "stdout",
     "output_type": "stream",
     "text": [
      "CPU times: user 10.5 s, sys: 1.19 s, total: 11.7 s\n",
      "Wall time: 9.84 s\n"
     ]
    }
   ],
   "source": [
    "%%time\n",
    "\n",
    "with netCDF4.Dataset(fn, 'a') as nc_fh: \n",
    "    nc_fh['rainfall_amount'][0:100, :, :] = test_data[0:100, :, :]"
   ]
  },
  {
   "cell_type": "code",
   "execution_count": 8,
   "metadata": {},
   "outputs": [
    {
     "name": "stdout",
     "output_type": "stream",
     "text": [
      "-rw-r--r--  1 chwala-c  wheel    79M  7 Mai 09:42 /tmp/test.nc\r\n"
     ]
    }
   ],
   "source": [
    "ls -lh /tmp/test.nc"
   ]
  },
  {
   "cell_type": "markdown",
   "metadata": {},
   "source": [
    "# Try if it is faster with defined chunksize"
   ]
  },
  {
   "cell_type": "code",
   "execution_count": 9,
   "metadata": {},
   "outputs": [],
   "source": [
    "metadata_per_timestamp = {\n",
    "    'maxrange': {\n",
    "        'variable_parameters': {\n",
    "            'datatype': 'i2',\n",
    "            'dimensions': ('time'),\n",
    "        },\n",
    "        'attributes': {\n",
    "            'units': 'km',\n",
    "        },\n",
    "    },\n",
    "    'radarlocations': {\n",
    "        'variable_parameters': {\n",
    "            'datatype': str,\n",
    "            'dimensions': ('time'),\n",
    "        },\n",
    "        'attributes': {\n",
    "            'long_name': 'List of radar locations available at time stamp'\n",
    "        },\n",
    "    },\n",
    "}\n",
    "\n",
    "config = {\n",
    "        'variables': {\n",
    "            'rainfall_amount': {\n",
    "                'variable_parameters': {\n",
    "                    'datatype': 'i2',\n",
    "                    'dimensions': ('time', 'y', 'x'),\n",
    "                    'chunksizes': [1, 900, 900],\n",
    "                    'fill_value': -9999,\n",
    "                    'zlib': True,\n",
    "                    'complevel': 5,\n",
    "                },\n",
    "                'attributes': {\n",
    "                    'long_name': 'Hourly rainfall',\n",
    "                    'standard_name': 'rainfall_amount',\n",
    "                    'units': 'kg',\n",
    "                    'scale_factor': 0.1,\n",
    "                    'add_offset': 0,\n",
    "                    'coordinates': 'longitudes latitudes',\n",
    "                    'grid_mapping': 'RADOLAN_grid',\n",
    "                },\n",
    "            },\n",
    "        },\n",
    "        'metadata_per_timestamp': metadata_per_timestamp,\n",
    "        'metadata_fixed': {\n",
    "            'n_lats': 900,\n",
    "            'n_lons': 900,\n",
    "        }\n",
    "}"
   ]
  },
  {
   "cell_type": "code",
   "execution_count": 10,
   "metadata": {},
   "outputs": [],
   "source": [
    "rtn.create_empty_netcdf(fn=fn, product_config_dict=config, product_name='RW')"
   ]
  },
  {
   "cell_type": "code",
   "execution_count": 11,
   "metadata": {},
   "outputs": [
    {
     "name": "stdout",
     "output_type": "stream",
     "text": [
      "CPU times: user 36.9 s, sys: 451 ms, total: 37.3 s\n",
      "Wall time: 9.64 s\n"
     ]
    }
   ],
   "source": [
    "%%time\n",
    "\n",
    "with netCDF4.Dataset(fn, 'a') as nc_fh: \n",
    "    for i in range(test_data.shape[0]):\n",
    "        nc_fh['rainfall_amount'][i, :, :] = test_data[i, :, :]"
   ]
  },
  {
   "cell_type": "code",
   "execution_count": 12,
   "metadata": {},
   "outputs": [
    {
     "name": "stdout",
     "output_type": "stream",
     "text": [
      "-rw-r--r--  1 chwala-c  wheel    79M  7 Mai 09:42 /tmp/test.nc\r\n"
     ]
    }
   ],
   "source": [
    "ls -lh /tmp/test.nc"
   ]
  },
  {
   "cell_type": "code",
   "execution_count": 13,
   "metadata": {},
   "outputs": [],
   "source": [
    "rtn.create_empty_netcdf(fn=fn, product_config_dict=config, product_name='RW')"
   ]
  },
  {
   "cell_type": "code",
   "execution_count": 14,
   "metadata": {},
   "outputs": [
    {
     "name": "stdout",
     "output_type": "stream",
     "text": [
      "CPU times: user 10.6 s, sys: 1.09 s, total: 11.7 s\n",
      "Wall time: 9.91 s\n"
     ]
    }
   ],
   "source": [
    "%%time\n",
    "\n",
    "with netCDF4.Dataset(fn, 'a') as nc_fh: \n",
    "    nc_fh['rainfall_amount'][0:100, :, :] = test_data[0:100, :, :]  "
   ]
  },
  {
   "cell_type": "code",
   "execution_count": 15,
   "metadata": {},
   "outputs": [
    {
     "name": "stdout",
     "output_type": "stream",
     "text": [
      "-rw-r--r--  1 chwala-c  wheel    79M  7 Mai 09:43 /tmp/test.nc\r\n"
     ]
    }
   ],
   "source": [
    "ls -lh /tmp/test.nc"
   ]
  },
  {
   "cell_type": "markdown",
   "metadata": {},
   "source": [
    "# Try without compression"
   ]
  },
  {
   "cell_type": "code",
   "execution_count": 16,
   "metadata": {},
   "outputs": [],
   "source": [
    "metadata_per_timestamp = {\n",
    "    'maxrange': {\n",
    "        'variable_parameters': {\n",
    "            'datatype': 'i2',\n",
    "            'dimensions': ('time'),\n",
    "        },\n",
    "        'attributes': {\n",
    "            'units': 'km',\n",
    "        },\n",
    "    },\n",
    "    'radarlocations': {\n",
    "        'variable_parameters': {\n",
    "            'datatype': str,\n",
    "            'dimensions': ('time'),\n",
    "        },\n",
    "        'attributes': {\n",
    "            'long_name': 'List of radar locations available at time stamp'\n",
    "        },\n",
    "    },\n",
    "}\n",
    "\n",
    "config = {\n",
    "        'variables': {\n",
    "            'rainfall_amount': {\n",
    "                'variable_parameters': {\n",
    "                    'datatype': 'i2',\n",
    "                    'dimensions': ('time', 'y', 'x'),\n",
    "                    'fill_value': -9999,\n",
    "                    'zlib': False,\n",
    "                    'complevel': 0,\n",
    "                },\n",
    "                'attributes': {\n",
    "                    'long_name': 'Hourly rainfall',\n",
    "                    'standard_name': 'rainfall_amount',\n",
    "                    'units': 'kg',\n",
    "                    'scale_factor': 0.1,\n",
    "                    'add_offset': 0,\n",
    "                    'coordinates': 'longitudes latitudes',\n",
    "                    'grid_mapping': 'RADOLAN_grid',\n",
    "                },\n",
    "            },\n",
    "        },\n",
    "        'metadata_per_timestamp': metadata_per_timestamp,\n",
    "        'metadata_fixed': {\n",
    "            'n_lats': 900,\n",
    "            'n_lons': 900,\n",
    "        }\n",
    "}"
   ]
  },
  {
   "cell_type": "code",
   "execution_count": 17,
   "metadata": {},
   "outputs": [],
   "source": [
    "rtn.create_empty_netcdf(fn=fn, product_config_dict=config, product_name='RW')"
   ]
  },
  {
   "cell_type": "code",
   "execution_count": 18,
   "metadata": {},
   "outputs": [
    {
     "name": "stdout",
     "output_type": "stream",
     "text": [
      "CPU times: user 2.44 s, sys: 255 ms, total: 2.69 s\n",
      "Wall time: 700 ms\n"
     ]
    }
   ],
   "source": [
    "%%time\n",
    "\n",
    "with netCDF4.Dataset(fn, 'a') as nc_fh: \n",
    "    for i in range(test_data.shape[0]):\n",
    "        nc_fh['rainfall_amount'][i, :, :] = test_data[i, :, :]"
   ]
  },
  {
   "cell_type": "code",
   "execution_count": 19,
   "metadata": {},
   "outputs": [
    {
     "name": "stdout",
     "output_type": "stream",
     "text": [
      "-rw-r--r--  1 chwala-c  wheel   167M  7 Mai 09:43 /tmp/test.nc\r\n"
     ]
    }
   ],
   "source": [
    "ls -lh /tmp/test.nc"
   ]
  },
  {
   "cell_type": "code",
   "execution_count": 20,
   "metadata": {},
   "outputs": [],
   "source": [
    "rtn.create_empty_netcdf(fn=fn, product_config_dict=config, product_name='RW')"
   ]
  },
  {
   "cell_type": "code",
   "execution_count": 21,
   "metadata": {},
   "outputs": [
    {
     "name": "stdout",
     "output_type": "stream",
     "text": [
      "CPU times: user 1.74 s, sys: 1.05 s, total: 2.78 s\n",
      "Wall time: 1.05 s\n"
     ]
    }
   ],
   "source": [
    "%%time\n",
    "\n",
    "with netCDF4.Dataset(fn, 'a') as nc_fh: \n",
    "    nc_fh['rainfall_amount'][0:100, :, :] = test_data[0:100, :, :]  "
   ]
  },
  {
   "cell_type": "markdown",
   "metadata": {},
   "source": [
    "# Trying different cache sizes\n",
    "\n",
    "C documentation\n",
    "\n",
    "https://www.unidata.ucar.edu/software/netcdf/docs/group__variables.html#ga2788cbfc6880ec70c304292af2bc7546\n",
    "\n",
    "Python documentaiton\n",
    "\n",
    "http://unidata.github.io/netcdf4-python/netCDF4/index.html#netCDF4.Variable.set_var_chunk_cache"
   ]
  },
  {
   "cell_type": "code",
   "execution_count": 22,
   "metadata": {},
   "outputs": [],
   "source": [
    "metadata_per_timestamp = {\n",
    "    'maxrange': {\n",
    "        'variable_parameters': {\n",
    "            'datatype': 'i2',\n",
    "            'dimensions': ('time'),\n",
    "        },\n",
    "        'attributes': {\n",
    "            'units': 'km',\n",
    "        },\n",
    "    },\n",
    "    'radarlocations': {\n",
    "        'variable_parameters': {\n",
    "            'datatype': str,\n",
    "            'dimensions': ('time'),\n",
    "        },\n",
    "        'attributes': {\n",
    "            'long_name': 'List of radar locations available at time stamp'\n",
    "        },\n",
    "    },\n",
    "}\n",
    "\n",
    "config = {\n",
    "        'variables': {\n",
    "            'rainfall_amount': {\n",
    "                'variable_parameters': {\n",
    "                    'datatype': 'i2',\n",
    "                    'dimensions': ('time', 'y', 'x'),\n",
    "                    'chunksizes': [1, 900, 900],\n",
    "                    'fill_value': -9999,\n",
    "                    'zlib': True,\n",
    "                    'complevel': 5,\n",
    "                },\n",
    "                'attributes': {\n",
    "                    'long_name': 'Hourly rainfall',\n",
    "                    'standard_name': 'rainfall_amount',\n",
    "                    'units': 'kg',\n",
    "                    'scale_factor': 0.1,\n",
    "                    'add_offset': 0,\n",
    "                    'coordinates': 'longitudes latitudes',\n",
    "                    'grid_mapping': 'RADOLAN_grid',\n",
    "                },\n",
    "            },\n",
    "        },\n",
    "        'metadata_per_timestamp': metadata_per_timestamp,\n",
    "        'metadata_fixed': {\n",
    "            'n_lats': 900,\n",
    "            'n_lons': 900,\n",
    "        }\n",
    "}\n",
    "\n",
    "rtn.create_empty_netcdf(fn=fn, product_config_dict=config, product_name='RW')"
   ]
  },
  {
   "cell_type": "code",
   "execution_count": 23,
   "metadata": {},
   "outputs": [
    {
     "name": "stdout",
     "output_type": "stream",
     "text": [
      "CPU times: user 10.6 s, sys: 1.04 s, total: 11.6 s\n",
      "Wall time: 9.83 s\n"
     ]
    }
   ],
   "source": [
    "%%time\n",
    "\n",
    "with netCDF4.Dataset(fn, 'a') as nc_fh: \n",
    "    nc_fh['rainfall_amount'].set_var_chunk_cache(size=100e6, nelems=1, preemption=1)\n",
    "    nc_fh['rainfall_amount'][0:100, :, :] = test_data[0:100, :, :]  "
   ]
  },
  {
   "cell_type": "markdown",
   "metadata": {},
   "source": [
    "I tried many differenet combination of `size`, `nelems` and `preemtion` but the effect is marginal."
   ]
  }
 ],
 "metadata": {
  "kernelspec": {
   "display_name": "Python 3",
   "language": "python",
   "name": "python3"
  },
  "language_info": {
   "codemirror_mode": {
    "name": "ipython",
    "version": 3
   },
   "file_extension": ".py",
   "mimetype": "text/x-python",
   "name": "python",
   "nbconvert_exporter": "python",
   "pygments_lexer": "ipython3",
   "version": "3.7.3"
  }
 },
 "nbformat": 4,
 "nbformat_minor": 2
}
